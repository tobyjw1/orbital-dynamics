{
 "cells": [
  {
   "cell_type": "code",
   "execution_count": 10,
   "id": "19846934",
   "metadata": {},
   "outputs": [
    {
     "data": {
      "application/vnd.jupyter.widget-view+json": {
       "model_id": "f6588380d6d7457cbb7b692fdc42be52",
       "version_major": 2,
       "version_minor": 0
      },
      "text/plain": [
       "interactive(children=(FloatSlider(value=-1.0, description='x₀', max=2.0, min=-2.0, step=0.05), FloatSlider(val…"
      ]
     },
     "metadata": {},
     "output_type": "display_data"
    }
   ],
   "source": [
    "import numpy as np\n",
    "import matplotlib.pyplot as plt\n",
    "from scipy.integrate import solve_ivp\n",
    "import ipywidgets as widgets\n",
    "from ipywidgets import interact\n",
    "\n",
    "# Constants for Earth-Sun system\n",
    "mu = 3.003e-6\n",
    "mu1 = 1 - mu\n",
    "\n",
    "# Approximate Lagrange point positions (1D + triangles)\n",
    "def lagrange_points():\n",
    "    # Colinear points (approximated numerically or hardcoded here)\n",
    "    L1 = [0.99, 0]\n",
    "    L2 = [1.01, 0]\n",
    "    L3 = [-1.01, 0]\n",
    "\n",
    "    # Equilateral triangle points (w.r.t Earth and Sun)\n",
    "    x4 = 0.5 - mu\n",
    "    y4 = np.sqrt(3)/2\n",
    "    L4 = [x4, y4]\n",
    "    L5 = [x4, -y4]\n",
    "\n",
    "    return [L1, L2, L3, L4, L5]\n",
    "\n",
    "# CR3BP dynamics\n",
    "def cr3bp(t, state):\n",
    "    x, y, vx, vy = state\n",
    "\n",
    "    r1 = np.sqrt((x + mu)**2 + y**2)\n",
    "    r2 = np.sqrt((x - mu1)**2 + y**2)\n",
    "\n",
    "    ax = 2*vy + x - mu1*(x + mu)/r1**3 - mu*(x - mu1)/r2**3\n",
    "    ay = -2*vx + y - mu1*y/r1**3 - mu*y/r2**3\n",
    "\n",
    "    return [vx, vy, ax, ay]\n",
    "\n",
    "# Plot function with lagrange toggle\n",
    "def plot_orbit_with_lps(x0=-1.0, y0=0.0, vx0=0.0, vy0=0.5, t_max=20.0, show_lps=True):\n",
    "    initial_state = [x0, y0, vx0, vy0]\n",
    "    t_eval = np.linspace(0, t_max, 5000)\n",
    "\n",
    "    sol = solve_ivp(cr3bp, [0, t_max], initial_state, t_eval=t_eval, rtol=1e-9, atol=1e-9)\n",
    "\n",
    "    plt.figure(figsize=(7, 7))\n",
    "    plt.plot(sol.y[0], sol.y[1], lw=1.5, label='Orbit')\n",
    "\n",
    "    # Earth and Sun\n",
    "    plt.plot(-mu, 0, 'bo', label='Earth')\n",
    "    plt.plot(mu1, 0, 'yo', label='Sun')\n",
    "\n",
    "    if show_lps:\n",
    "        L_points = lagrange_points()\n",
    "        labels = ['L1', 'L2', 'L3', 'L4', 'L5']\n",
    "        for (x, y), label in zip(L_points, labels):\n",
    "            plt.plot(x, y, 'rx')\n",
    "            plt.text(x + 0.02, y + 0.02, label, fontsize=9, color='red')\n",
    "\n",
    "    plt.xlabel('x')\n",
    "    plt.ylabel('y')\n",
    "    plt.title('CR3BP Orbit with Lagrange Points')\n",
    "    plt.legend()\n",
    "    plt.grid(True)\n",
    "    plt.axis('equal')\n",
    "    plt.show()\n",
    "\n",
    "# Interactive widget\n",
    "interact(plot_orbit_with_lps,\n",
    "         x0=widgets.FloatSlider(value=-1.0, min=-2.0, max=2.0, step=0.05, description='x₀'),\n",
    "         y0=widgets.FloatSlider(value=0.0, min=-2.0, max=2.0, step=0.05, description='y₀'),\n",
    "         vx0=widgets.FloatSlider(value=0.0, min=-2.0, max=2.0, step=0.05, description='vₓ₀'),\n",
    "         vy0=widgets.FloatSlider(value=0.5, min=-2.0, max=2.0, step=0.05, description='vᵧ₀'),\n",
    "         t_max=widgets.FloatSlider(value=20.0, min=1.0, max=100.0, step=1.0, description='tₘₐₓ'),\n",
    "         show_lps=widgets.Checkbox(value=True, description='Show Lagrange Pts'));\n"
   ]
  },
  {
   "cell_type": "code",
   "execution_count": null,
   "id": "e4e3eb7f",
   "metadata": {},
   "outputs": [],
   "source": []
  }
 ],
 "metadata": {
  "kernelspec": {
   "display_name": "Python 3",
   "language": "python",
   "name": "python3"
  },
  "language_info": {
   "codemirror_mode": {
    "name": "ipython",
    "version": 3
   },
   "file_extension": ".py",
   "mimetype": "text/x-python",
   "name": "python",
   "nbconvert_exporter": "python",
   "pygments_lexer": "ipython3",
   "version": "3.8.8"
  }
 },
 "nbformat": 4,
 "nbformat_minor": 5
}
